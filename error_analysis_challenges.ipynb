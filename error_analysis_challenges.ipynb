{
 "metadata": {
  "name": "",
  "signature": "sha256:7e0cca3558d0a9012433206f80bbc3015e85f73f503a8b1fe1b020bf6bbf5f5f"
 },
 "nbformat": 3,
 "nbformat_minor": 0,
 "worksheets": [
  {
   "cells": [
    {
     "cell_type": "heading",
     "level": 1,
     "metadata": {},
     "source": [
      "Error Analysis Challenges (Frederik Durant)"
     ]
    },
    {
     "cell_type": "heading",
     "level": 2,
     "metadata": {},
     "source": [
      "Challenge 1"
     ]
    },
    {
     "cell_type": "markdown",
     "metadata": {},
     "source": [
      "For the house representatives data set, calculate the accuracy, precision, recall and f1 scores of each classifier you built (on the test set)."
     ]
    },
    {
     "cell_type": "markdown",
     "metadata": {},
     "source": [
      "We start by repeating the data preparation steps from the supervised learning challenges:"
     ]
    },
    {
     "cell_type": "code",
     "collapsed": false,
     "input": [
      "import pandas as pd\n",
      "import numpy as np\n",
      "votesDF=pd.read_csv('house-votes-84.csv', sep=',', header=0)\n",
      "votesDF2 = votesDF.replace(to_replace=['y','n','?'],value=[1,0,np.nan])\n",
      "votesDF3 = votesDF2.replace(to_replace=np.nan,value=votesDF2.mean(axis=0))\n",
      "# Replace 'republican' with 0, and 'democrat' with 1\n",
      "votesDF4 = votesDF3.replace(to_replace=['republican','democrat'],value=[0,1])\n",
      "\n",
      "from sklearn.cross_validation import train_test_split\n",
      "X_train, X_test, y_train, y_test = train_test_split(votesDF4[votesDF4.columns[1:17]], votesDF4['class-name'], test_size=0.2, random_state=0)\n",
      "print \"X_train (%d examples) = \" % len(X_train), X_train\n",
      "print \"X_test (%d examples) = \" % len(X_test), X_test\n",
      "print \"y_train (%d labels) = \" % len(y_train), y_train\n",
      "print \"y_test (%d labels) = \" % len(y_test), y_test"
     ],
     "language": "python",
     "metadata": {},
     "outputs": [
      {
       "output_type": "stream",
       "stream": "stdout",
       "text": [
        " X_train (348 examples) =  [[ 1.          1.          1.         ...,  1.          1.          1.        ]\n",
        " [ 0.          1.          0.         ...,  1.          0.          1.        ]\n",
        " [ 0.          1.          1.         ...,  1.          1.          1.        ]\n",
        " ..., \n",
        " [ 1.          1.          1.         ...,  1.          0.          1.        ]\n",
        " [ 1.          0.          1.         ...,  0.          0.          0.81268882]\n",
        " [ 0.          1.          1.         ...,  0.          1.          1.        ]]\n",
        "X_test (87 examples) =  [[ 0.          0.          1.         ...,  1.          0.          1.        ]\n",
        " [ 1.          0.          1.         ...,  0.          1.          0.81268882]\n",
        " [ 1.          1.          1.         ...,  1.          0.          0.81268882]\n",
        " ..., \n",
        " [ 1.          0.          1.         ...,  0.          1.          1.        ]\n",
        " [ 1.          1.          1.         ...,  0.          1.          0.81268882]\n",
        " [ 1.          0.          1.         ...,  0.          1.          0.81268882]]\n",
        "y_train (348 labels) =  [1 0 1 1 1 0 1 1 0 0 0 0 1 1 1 1 1 1 0 1 0 0 1 1 0 0 1 1 0 0 1 1 1 0 0 1 1\n",
        " 1 1 1 1 0 1 0 0 1 0 0 0 1 0 1 1 0 0 1 0 1 0 1 0 1 0 1 1 0 0 1 0 0 1 0 1 0\n",
        " 1 0 1 0 0 1 0 1 1 0 1 1 1 1 0 1 1 1 0 0 0 1 0 1 0 0 0 1 1 0 1 1 0 0 1 1 0\n",
        " 1 1 1 1 1 1 0 1 1 0 1 1 1 1 1 1 1 1 0 0 1 0 1 1 1 1 0 0 0 1 1 1 1 0 0 0 1\n",
        " 1 1 0 0 0 0 1 1 0 1 0 1 1 1 1 1 0 1 1 1 0 0 1 1 1 0 0 1 1 1 1 0 1 0 0 0 1\n",
        " 1 1 1 0 1 1 1 1 1 0 1 0 1 1 1 1 1 1 1 0 1 1 1 1 1 0 1 1 0 1 1 1 1 0 1 0 0\n",
        " 0 0 0 1 1 1 1 0 0 1 0 1 1 0 1 1 1 1 0 1 1 1 0 1 1 0 1 0 1 1 1 1 0 1 1 0 0\n",
        " 1 0 1 1 1 1 1 0 1 0 1 0 0 0 0 1 0 0 0 1 1 0 1 0 1 1 1 0 0 1 0 0 0 1 1 0 1\n",
        " 1 0 1 1 1 1 1 1 1 1 1 1 1 1 0 1 0 1 0 0 1 1 0 1 1 1 1 1 1 1 1 1 1 1 0 1 1\n",
        " 1 0 1 0 0 0 1 0 0 0 1 1 0 1 1]\n",
        "y_test (87 labels) =  [1 1 1 0 1 1 1 0 0 0 0 1 1 1 0 0 0 1 1 0 1 1 0 1 1 1 0 1 0 1 0 1 1 1 0 1 0\n",
        " 1 1 1 0 1 1 0 0 0 1 1 0 1 0 1 1 1 0 1 1 1 1 0 1 1 0 1 1 1 0 1 0 0 0 1 0 0\n",
        " 0 0 1 0 1 1 0 0 1 1 1 1 1]\n"
       ]
      }
     ],
     "prompt_number": 37
    },
    {
     "cell_type": "code",
     "collapsed": false,
     "input": [
      "from sklearn.neighbors import KNeighborsClassifier\n",
      "from sklearn.linear_model import LogisticRegression\n",
      "from sklearn.naive_bayes import GaussianNB\n",
      "from sklearn.svm import SVC\n",
      "from sklearn.tree import DecisionTreeClassifier\n",
      "from sklearn.ensemble import RandomForestClassifier\n",
      "\n",
      "from sklearn.metrics import accuracy_score, precision_score, recall_score, f1_score\n",
      "\n",
      "models = {'logres': LogisticRegression(),\n",
      "#         'knn': KNeighborsClassifier(n_neighbors=10),\n",
      "          'gaussianNB': GaussianNB(),\n",
      "          'svc': SVC(probability=True),\n",
      "#          'decisiontree': DecisionTreeClassifier(),\n",
      "#          'randomforest': RandomForestClassifier(),\n",
      "         }\n",
      "\n",
      "for modelName, model in models.items():\n",
      "    fittedModel = model.fit(X_train, y_train)\n",
      "    predicted = fittedModel.predict(X_test)\n",
      "    print \"Scores for %s model:\" % modelName\n",
      "    accuracy = accuracy_score(y_true=y_test, y_pred=predicted)\n",
      "    precision = precision_score(y_true=y_test, y_pred=predicted)\n",
      "    recall = recall_score(y_true=y_test, y_pred=predicted)\n",
      "    f1 = f1_score(y_true=y_test, y_pred=predicted)\n",
      "    print \"Accuracy = %1.2f\" % accuracy\n",
      "    print \"Precision = %1.2f\" % precision\n",
      "    print \"Recall = %1.2f\" % recall\n",
      "    print \"F1 = %1.2f\" % f1\n",
      "    print \"\\n\""
     ],
     "language": "python",
     "metadata": {},
     "outputs": [
      {
       "output_type": "stream",
       "stream": "stdout",
       "text": [
        "Scores for logres model:\n",
        "Accuracy = 0.98\n",
        "Precision = 0.98\n",
        "Recall = 0.98\n",
        "F1 = 0.98\n",
        "\n",
        "\n",
        "Scores for gaussianNB model:\n",
        "Accuracy = 0.97\n",
        "Precision = 0.96\n",
        "Recall = 0.98\n",
        "F1 = 0.97\n",
        "\n",
        "\n",
        "Scores for svc model:\n",
        "Accuracy = 0.98\n",
        "Precision = 0.98\n",
        "Recall = 0.98\n",
        "F1 = 0.98\n",
        "\n",
        "\n"
       ]
      }
     ],
     "prompt_number": 47
    },
    {
     "cell_type": "heading",
     "level": 2,
     "metadata": {},
     "source": [
      "Challenge 2"
     ]
    },
    {
     "cell_type": "markdown",
     "metadata": {},
     "source": [
      "For each, draw the ROC curve and calculate the AUC"
     ]
    },
    {
     "cell_type": "code",
     "collapsed": false,
     "input": [
      "% matplotlib inline\n",
      "from sklearn.metrics import roc_curve, roc_auc_score\n",
      "import sys\n",
      "from matplotlib import pyplot as plt\n",
      "\n",
      "finalPredictions = {}\n",
      "\n",
      "for modelName, model in models.items():\n",
      "    fittedModel = model.fit(X_train, y_train)\n",
      "    \n",
      "    if hasattr(model, \"predict_proba\"):\n",
      "        print >> sys.stderr, \"Final prediction log probabilities for %s model ...\" % modelName,\n",
      "        finalPredictions[modelName] = {'train': model.predict_proba(X_train),\n",
      "                                       'test': model.predict_proba(X_test)}\n",
      "        print >> sys.stderr, \"done\"\n",
      "    \n",
      "\n",
      "#    print \"finalPredictions[modelName]['test']: \", finalPredictions[modelName]['test']\n",
      "    \n",
      "#    print fpr\n",
      "#    print tpr\n",
      "#    print thresholds\n",
      "\n",
      "plt.figure(figsize=(9,9))\n",
      "for modelName, probs in finalPredictions.iteritems():\n",
      "    y_probs = [x[1] for x in finalPredictions[modelName]['test']]\n",
      "    fpr, tpr, thresholds = roc_curve(y_true=y_test, \n",
      "                                     y_score=y_probs, pos_label=1)\n",
      "    roc_auc = roc_auc_score(y_true=y_test, y_score=y_probs)\n",
      "    plt.plot(fpr, tpr, label=\"%s (AUC = %1.2f%%)\" % (modelName, roc_auc*100))\n",
      "plt.plot(np.linspace(0, 1),np.linspace(0,1), label=\"baseline (AUC = 50%)\")\n",
      "plt.legend(loc=\"best\")\n",
      "plt.show()"
     ],
     "language": "python",
     "metadata": {},
     "outputs": [
      {
       "output_type": "stream",
       "stream": "stderr",
       "text": [
        "Final prediction log probabilities for logres model ... done\n",
        "Final prediction log probabilities for gaussianNB model ... done\n",
        "Final prediction log probabilities for svc model ... done\n"
       ]
      },
      {
       "metadata": {},
       "output_type": "display_data",
       "png": "[encoded data removed]",
       "text": [
        "<matplotlib.figure.Figure at 0x111592350>"
       ]
      }
     ],
     "prompt_number": 62
    }
   ],
   "metadata": {}
  }
 ]
}