{
 "metadata": {
  "name": "",
  "signature": "sha256:d4a875fb2de9361745d98c8ee439d361297c45884d21b5d992c1678e4ad81276"
 },
 "nbformat": 3,
 "nbformat_minor": 0,
 "worksheets": [
  {
   "cells": [
    {
     "cell_type": "heading",
     "level": 1,
     "metadata": {},
     "source": [
      "Error Analysis Challenges (Frederik Durant)"
     ]
    },
    {
     "cell_type": "heading",
     "level": 2,
     "metadata": {},
     "source": [
      "Challenge 1"
     ]
    },
    {
     "cell_type": "markdown",
     "metadata": {},
     "source": [
      "For the house representatives data set, calculate the accuracy, precision, recall and f1 scores of each classifier you built (on the test set)."
     ]
    },
    {
     "cell_type": "markdown",
     "metadata": {},
     "source": [
      "We start by repeating the data preparation steps from the supervised learning challenges:"
     ]
    },
    {
     "cell_type": "code",
     "collapsed": false,
     "input": [
      "import pandas as pd\n",
      "import numpy as np\n",
      "votesDF=pd.read_csv('house-votes-84.csv', sep=',', header=0)\n",
      "votesDF2 = votesDF.replace(to_replace=['y','n','?'],value=[1,0,np.nan])\n",
      "votesDF3 = votesDF2.replace(to_replace=np.nan,value=votesDF2.mean(axis=0))\n",
      "# Replace 'republican' with 0, and 'democrat' with 1\n",
      "votesDF4 = votesDF3.replace(to_replace=['republican','democrat'],value=[0,1])\n",
      "\n",
      "from sklearn.cross_validation import train_test_split\n",
      "X_train, X_test, y_train, y_test = train_test_split(votesDF4[votesDF4.columns[1:17]], votesDF4['class-name'], test_size=0.2, random_state=0)\n",
      "print \"X_train (%d examples) = \" % len(X_train), X_train\n",
      "print \"X_test (%d examples) = \" % len(X_test), X_test\n",
      "print \"y_train (%d labels) = \" % len(y_train), y_train\n",
      "print \"y_test (%d labels) = \" % len(y_test), y_test"
     ],
     "language": "python",
     "metadata": {},
     "outputs": [
      {
       "output_type": "stream",
       "stream": "stdout",
       "text": [
        "X_train (348 examples) =  [[ 1.          1.          1.         ...,  1.          1.          1.        ]\n",
        " [ 0.          1.          0.         ...,  1.          0.          1.        ]\n",
        " [ 0.          1.          1.         ...,  1.          1.          1.        ]\n",
        " ..., \n",
        " [ 1.          1.          1.         ...,  1.          0.          1.        ]\n",
        " [ 1.          0.          1.         ...,  0.          0.          0.81268882]\n",
        " [ 0.          1.          1.         ...,  0.          1.          1.        ]]\n",
        "X_test (87 examples) =  [[ 0.          0.          1.         ...,  1.          0.          1.        ]\n",
        " [ 1.          0.          1.         ...,  0.          1.          0.81268882]\n",
        " [ 1.          1.          1.         ...,  1.          0.          0.81268882]\n",
        " ..., \n",
        " [ 1.          0.          1.         ...,  0.          1.          1.        ]\n",
        " [ 1.          1.          1.         ...,  0.          1.          0.81268882]\n",
        " [ 1.          0.          1.         ...,  0.          1.          0.81268882]]\n",
        "y_train (348 labels) =  [1 0 1 1 1 0 1 1 0 0 0 0 1 1 1 1 1 1 0 1 0 0 1 1 0 0 1 1 0 0 1 1 1 0 0 1 1\n",
        " 1 1 1 1 0 1 0 0 1 0 0 0 1 0 1 1 0 0 1 0 1 0 1 0 1 0 1 1 0 0 1 0 0 1 0 1 0\n",
        " 1 0 1 0 0 1 0 1 1 0 1 1 1 1 0 1 1 1 0 0 0 1 0 1 0 0 0 1 1 0 1 1 0 0 1 1 0\n",
        " 1 1 1 1 1 1 0 1 1 0 1 1 1 1 1 1 1 1 0 0 1 0 1 1 1 1 0 0 0 1 1 1 1 0 0 0 1\n",
        " 1 1 0 0 0 0 1 1 0 1 0 1 1 1 1 1 0 1 1 1 0 0 1 1 1 0 0 1 1 1 1 0 1 0 0 0 1\n",
        " 1 1 1 0 1 1 1 1 1 0 1 0 1 1 1 1 1 1 1 0 1 1 1 1 1 0 1 1 0 1 1 1 1 0 1 0 0\n",
        " 0 0 0 1 1 1 1 0 0 1 0 1 1 0 1 1 1 1 0 1 1 1 0 1 1 0 1 0 1 1 1 1 0 1 1 0 0\n",
        " 1 0 1 1 1 1 1 0 1 0 1 0 0 0 0 1 0 0 0 1 1 0 1 0 1 1 1 0 0 1 0 0 0 1 1 0 1\n",
        " 1 0 1 1 1 1 1 1 1 1 1 1 1 1 0 1 0 1 0 0 1 1 0 1 1 1 1 1 1 1 1 1 1 1 0 1 1\n",
        " 1 0 1 0 0 0 1 0 0 0 1 1 0 1 1]\n",
        "y_test (87 labels) =  [1 1 1 0 1 1 1 0 0 0 0 1 1 1 0 0 0 1 1 0 1 1 0 1 1 1 0 1 0 1 0 1 1 1 0 1 0\n",
        " 1 1 1 0 1 1 0 0 0 1 1 0 1 0 1 1 1 0 1 1 1 1 0 1 1 0 1 1 1 0 1 0 0 0 1 0 0\n",
        " 0 0 1 0 1 1 0 0 1 1 1 1 1]\n"
       ]
      }
     ],
     "prompt_number": 164
    },
    {
     "cell_type": "code",
     "collapsed": false,
     "input": [
      "from sklearn.neighbors import KNeighborsClassifier\n",
      "from sklearn.linear_model import LogisticRegression\n",
      "from sklearn.naive_bayes import GaussianNB\n",
      "from sklearn.svm import SVC\n",
      "from sklearn.tree import DecisionTreeClassifier\n",
      "from sklearn.ensemble import RandomForestClassifier\n",
      "\n",
      "from sklearn.metrics import accuracy_score, precision_score, recall_score, f1_score\n",
      "\n",
      "models = {'logres': LogisticRegression(),\n",
      "#         'knn': KNeighborsClassifier(n_neighbors=10),\n",
      "          'gaussianNB': GaussianNB(),\n",
      "          'svc': SVC(probability=True),\n",
      "#          'decisiontree': DecisionTreeClassifier(),\n",
      "          'randomforest': RandomForestClassifier(),\n",
      "         }\n",
      "\n",
      "for modelName, model in models.items():\n",
      "    fittedModel = model.fit(X_train, y_train)\n",
      "    predicted = fittedModel.predict(X_test)\n",
      "    print \"Scores for %s model:\" % modelName\n",
      "    accuracy = accuracy_score(y_true=y_test, y_pred=predicted)\n",
      "    precision = precision_score(y_true=y_test, y_pred=predicted)\n",
      "    recall = recall_score(y_true=y_test, y_pred=predicted)\n",
      "    f1 = f1_score(y_true=y_test, y_pred=predicted)\n",
      "    print \"Accuracy = %1.2f\" % accuracy\n",
      "    print \"Precision = %1.2f\" % precision\n",
      "    print \"Recall = %1.2f\" % recall\n",
      "    print \"F1 = %1.2f\" % f1\n",
      "    print \"\\n\""
     ],
     "language": "python",
     "metadata": {},
     "outputs": [
      {
       "output_type": "stream",
       "stream": "stdout",
       "text": [
        "Scores for logres model:\n",
        "Accuracy = 0.98\n",
        "Precision = 0.98\n",
        "Recall = 0.98\n",
        "F1 = 0.98\n",
        "\n",
        "\n",
        "Scores for gaussianNB model:\n",
        "Accuracy = 0.97\n",
        "Precision = 0.96\n",
        "Recall = 0.98\n",
        "F1 = 0.97\n",
        "\n",
        "\n",
        "Scores for svc model:\n",
        "Accuracy = 0.98\n",
        "Precision = 0.98\n",
        "Recall = 0.98\n",
        "F1 = 0.98\n",
        "\n",
        "\n",
        "Scores for randomforest model:\n",
        "Accuracy = 0.99\n",
        "Precision = 1.00\n",
        "Recall = 0.98\n",
        "F1 = 0.99\n",
        "\n",
        "\n"
       ]
      }
     ],
     "prompt_number": 165
    },
    {
     "cell_type": "heading",
     "level": 2,
     "metadata": {},
     "source": [
      "Challenge 2"
     ]
    },
    {
     "cell_type": "markdown",
     "metadata": {},
     "source": [
      "For each, draw the ROC curve and calculate the AUC"
     ]
    },
    {
     "cell_type": "code",
     "collapsed": false,
     "input": [
      "% matplotlib inline\n",
      "from sklearn.metrics import roc_curve, roc_auc_score\n",
      "import sys\n",
      "from matplotlib import pyplot as plt\n",
      "\n",
      "finalPredictions = {}\n",
      "\n",
      "for modelName, model in models.items():\n",
      "    fittedModel = model.fit(X_train, y_train)\n",
      "    \n",
      "    if hasattr(model, \"predict_proba\"):\n",
      "        print >> sys.stderr, \"Final prediction log probabilities for %s model ...\" % modelName,\n",
      "        finalPredictions[modelName] = {'train': model.predict_proba(X_train),\n",
      "                                       'test': model.predict_proba(X_test)}\n",
      "        print >> sys.stderr, \"done\"\n",
      "    \n",
      "\n",
      "#    print \"finalPredictions[modelName]['test']: \", finalPredictions[modelName]['test']\n",
      "    \n",
      "#    print fpr\n",
      "#    print tpr\n",
      "#    print thresholds\n",
      "\n",
      "plt.figure(figsize=(9,9))\n",
      "for modelName, probs in finalPredictions.iteritems():\n",
      "    y_probs = [x[1] for x in finalPredictions[modelName]['test']]\n",
      "    fpr, tpr, thresholds = roc_curve(y_true=y_test, \n",
      "                                     y_score=y_probs, pos_label=1)\n",
      "    roc_auc = roc_auc_score(y_true=y_test, y_score=y_probs)\n",
      "    plt.plot(fpr, tpr, 'o-', label=\"%s (AUC = %1.2f%%)\" % (modelName, roc_auc*100))\n",
      "plt.plot(np.linspace(0, 1,len(fpr)),np.linspace(0,1,len(fpr)), '-', label=\"baseline (AUC = 50%)\")\n",
      "plt.title(\"ROC curve for prediction of Republican vs. Democrat vote\")\n",
      "plt.xlabel(\"False Positive Rate\")\n",
      "plt.ylabel(\"True Positive Rate\")\n",
      "plt.legend(loc=\"best\")\n",
      "plt.show()"
     ],
     "language": "python",
     "metadata": {},
     "outputs": [
      {
       "output_type": "stream",
       "stream": "stderr",
       "text": [
        "Final prediction log probabilities for logres model ... done\n",
        "Final prediction log probabilities for gaussianNB model ... done\n",
        "Final prediction log probabilities for svc model ... done\n",
        "Final prediction log probabilities for randomforest model ... done\n"
       ]
      },
      {
       "metadata": {},
       "output_type": "display_data",
       "png": "[encoded data removed]",
       "text": [
        "<matplotlib.figure.Figure at 0x113dca0d0>"
       ]
      }
     ],
     "prompt_number": 166
    },
    {
     "cell_type": "heading",
     "level": 2,
     "metadata": {},
     "source": [
      "Challenge 3"
     ]
    },
    {
     "cell_type": "markdown",
     "metadata": {},
     "source": [
      "Calculate the same metrics you did in challenge 1, but this time in a cross validation scheme with the cross_val_score function (like in Challenge 9)"
     ]
    },
    {
     "cell_type": "code",
     "collapsed": false,
     "input": [
      "from sklearn.cross_validation import cross_val_score\n",
      "nrCrossValidationFolds = 10\n",
      "print \"Accuracy for various models with %d-fold cross validation:\\n\" % nrCrossValidationFolds\n",
      "\n",
      "X_values = votesDF4[votesDF4.columns[1:17]]\n",
      "y_values = votesDF4['class-name']\n",
      "\n",
      "scoringMethods = ['accuracy', 'precision', 'recall', 'f1']\n",
      "\n",
      "scores = {}\n",
      "\n",
      "for modelName, model in models.items():\n",
      "    print \"Scores for %s model:\" % modelName\n",
      "    for scorer in scoringMethods:\n",
      "        scores[scorer] = cross_val_score(model, X_values, y=y_values, scoring=scorer, cv=nrCrossValidationFolds, n_jobs=1)\n",
      "        print \"%s: %0.3f (+/- %0.3f)\" % (scorer, scores[scorer].mean(), scores[scorer].std())\n",
      "    print \"\\n\""
     ],
     "language": "python",
     "metadata": {},
     "outputs": [
      {
       "output_type": "stream",
       "stream": "stdout",
       "text": [
        "Accuracy for various models with 10-fold cross validation:\n",
        "\n",
        "Scores for logres model:\n",
        "accuracy: 0.958 (+/- 0.041)\n",
        "precision: 0.967 (+/- 0.034)"
       ]
      },
      {
       "output_type": "stream",
       "stream": "stdout",
       "text": [
        "\n",
        "recall: 0.966 (+/- 0.047)\n",
        "f1: 0.966 (+/- 0.034)"
       ]
      },
      {
       "output_type": "stream",
       "stream": "stdout",
       "text": [
        "\n",
        "\n",
        "\n",
        "Scores for gaussianNB model:\n",
        "accuracy: 0.940 (+/- 0.052)\n",
        "precision: 0.951 (+/- 0.039)\n",
        "recall: 0.951 (+/- 0.057)\n",
        "f1: 0.951 (+/- 0.044)\n",
        "\n",
        "\n",
        "Scores for svc model:\n",
        "accuracy: 0.958 (+/- 0.043)"
       ]
      },
      {
       "output_type": "stream",
       "stream": "stdout",
       "text": [
        "\n",
        "precision: 0.978 (+/- 0.032)"
       ]
      },
      {
       "output_type": "stream",
       "stream": "stdout",
       "text": [
        "\n",
        "recall: 0.955 (+/- 0.054)"
       ]
      },
      {
       "output_type": "stream",
       "stream": "stdout",
       "text": [
        "\n",
        "f1: 0.965 (+/- 0.037)"
       ]
      },
      {
       "output_type": "stream",
       "stream": "stdout",
       "text": [
        "\n",
        "\n",
        "\n",
        "Scores for randomforest model:\n",
        "accuracy: 0.958 (+/- 0.041)"
       ]
      },
      {
       "output_type": "stream",
       "stream": "stdout",
       "text": [
        "\n",
        "precision: 0.973 (+/- 0.035)"
       ]
      },
      {
       "output_type": "stream",
       "stream": "stdout",
       "text": [
        "\n",
        "recall: 0.947 (+/- 0.046)"
       ]
      },
      {
       "output_type": "stream",
       "stream": "stdout",
       "text": [
        "\n",
        "f1: 0.961 (+/- 0.035)"
       ]
      },
      {
       "output_type": "stream",
       "stream": "stdout",
       "text": [
        "\n",
        "\n",
        "\n"
       ]
      }
     ],
     "prompt_number": 167
    },
    {
     "cell_type": "heading",
     "level": 2,
     "metadata": {},
     "source": [
      "Challenge 4"
     ]
    },
    {
     "cell_type": "markdown",
     "metadata": {},
     "source": [
      "For your movie classifiers, calculate the precision and recall for each class."
     ]
    },
    {
     "cell_type": "markdown",
     "metadata": {},
     "source": [
      "We start by repeating the data preparation from Supervised Learning challenge 11:"
     ]
    },
    {
     "cell_type": "code",
     "collapsed": false,
     "input": [
      "from sklearn.metrics import precision_recall_fscore_support\n",
      "from sklearn.cross_validation import train_test_split\n",
      "\n",
      "moviesDF=pd.read_csv('BoxOfficeMojoMovies.csv', sep=',', header=0)\n",
      "print \"Original number of rows:\", len(moviesDF)\n",
      "features =  ['ProductionBudget','RuntimeInMinutes','OpeningWeekendGross','OWNumberTheaters','OWAvgGrossPerTheater']\n",
      "label = ['MPAARating']\n",
      "relevantFields = features\n",
      "relevantFields.extend(label)\n",
      "moviesDF2 = moviesDF.dropna(subset=relevantFields)\n",
      "\n",
      "from sklearn.dummy import DummyClassifier\n",
      "\n",
      "labelValues = [i for i in countsPerRating['Title'].index]\n",
      "moviesDF3 = moviesDF2.replace(to_replace=labelValues,value=range(len(labelValues)))\n",
      "X_values = moviesDF3[features]\n",
      "y_values = moviesDF2[label[0]]\n",
      "\n",
      "X_train, X_test, y_train, y_test = train_test_split(X_values, y_values, test_size=0.2, random_state=0)\n",
      "#print \"X_train (%d examples) = \" % len(X_train), X_train\n",
      "#print \"X_test (%d examples) = \" % len(X_test), X_test\n",
      "#print \"y_train (%d labels) = \" % len(y_train), y_train\n",
      "#print \"y_test (%d labels) = \" % len(y_test), y_test\n",
      "\n",
      "models = {'logres' : LogisticRegression(),\n",
      "          'knn' : KNeighborsClassifier(n_neighbors=3),\n",
      "          'baseline': DummyClassifier(strategy='most_frequent')}\n",
      "\n",
      "for modelName, model in models.items():\n",
      "    print \"Scores for %s model:\" % modelName\n",
      "    \n",
      "    fittedModel = model.fit(X_train, y_train)\n",
      "    predicted = fittedModel.predict(X_test)\n",
      "    precision, recall, fbeta_score, support = precision_recall_fscore_support(y_true=y_test, y_pred=predicted, labels=labelValues, average=None)\n",
      "    \n",
      "    for i in range(len(labelValues)):\n",
      "        lVal = labelValues[i]\n",
      "        print \"  for MPAARating '%s':\" % lVal\n",
      "        print \"    %s: %1.2f%%\" % ('precision', 100*precision[i])\n",
      "        print \"    %s: %1.2f%%\" % ('recall', 100*recall[i])\n",
      "    print \"\\n\"\n"
     ],
     "language": "python",
     "metadata": {},
     "outputs": [
      {
       "output_type": "stream",
       "stream": "stdout",
       "text": [
        "Original number of rows: 15244\n",
        "Scores for knn model:\n",
        "  for MPAARating 'G':\n",
        "    precision: 6.25%\n",
        "    recall: 7.14%\n",
        "  for MPAARating 'NC-17':\n",
        "    precision: 0.00%\n",
        "    recall: 0.00%\n",
        "  for MPAARating 'PG':\n",
        "    precision: 13.46%\n",
        "    recall: 17.07%\n",
        "  for MPAARating 'PG-13':\n",
        "    precision: 47.87%\n",
        "    recall: 42.25%\n",
        "  for MPAARating 'R':\n",
        "    precision: 47.17%\n",
        "    recall: 48.54%\n",
        "  for MPAARating 'Unrated':\n",
        "    precision: 50.00%\n",
        "    recall: 25.00%\n",
        "\n",
        "\n",
        "Scores for logres model:\n",
        "  for MPAARating 'G':"
       ]
      },
      {
       "output_type": "stream",
       "stream": "stdout",
       "text": [
        "\n",
        "    precision: 0.00%\n",
        "    recall: 0.00%\n",
        "  for MPAARating 'NC-17':\n",
        "    precision: 0.00%\n",
        "    recall: 0.00%\n",
        "  for MPAARating 'PG':\n",
        "    precision: 0.00%\n",
        "    recall: 0.00%\n",
        "  for MPAARating 'PG-13':\n",
        "    precision: 46.50%\n",
        "    recall: 53.05%\n",
        "  for MPAARating 'R':\n",
        "    precision: 45.20%\n",
        "    recall: 61.65%\n",
        "  for MPAARating 'Unrated':\n",
        "    precision: 0.00%\n",
        "    recall: 0.00%\n",
        "\n",
        "\n",
        "Scores for baseline model:\n",
        "  for MPAARating 'G':\n",
        "    precision: 0.00%\n",
        "    recall: 0.00%\n",
        "  for MPAARating 'NC-17':\n",
        "    precision: 0.00%\n",
        "    recall: 0.00%\n",
        "  for MPAARating 'PG':\n",
        "    precision: 0.00%\n",
        "    recall: 0.00%\n",
        "  for MPAARating 'PG-13':\n",
        "    precision: 0.00%\n",
        "    recall: 0.00%\n",
        "  for MPAARating 'R':\n",
        "    precision: 39.31%\n",
        "    recall: 100.00%\n",
        "  for MPAARating 'Unrated':\n",
        "    precision: 0.00%\n",
        "    recall: 0.00%\n",
        "\n",
        "\n"
       ]
      }
     ],
     "prompt_number": 168
    },
    {
     "cell_type": "heading",
     "level": 2,
     "metadata": {},
     "source": [
      "Challenge 5"
     ]
    },
    {
     "cell_type": "markdown",
     "metadata": {},
     "source": [
      "Draw the ROC curve (and calculate AUC) for the logistic regression classifier from challenge 12"
     ]
    },
    {
     "cell_type": "code",
     "collapsed": false,
     "input": [
      "%matplotlib inline\n",
      "from sklearn import preprocessing\n",
      "cancerDF=pd.read_csv('haberman.csv', sep=',', header=0)\n",
      "\n",
      "X_values = preprocessing.scale(cancerDF[cancerDF.columns[0:3]].astype(float))\n",
      "y_values = cancerDF['Survival'].replace(to_replace=[1,2],value=[0,1])\n",
      "\n",
      "#print X_values\n",
      "#print y_values"
     ],
     "language": "python",
     "metadata": {},
     "outputs": [],
     "prompt_number": 227
    },
    {
     "cell_type": "code",
     "collapsed": false,
     "input": [
      "from sklearn.cross_validation import train_test_split\n",
      "X_train, X_test, y_train, y_test = train_test_split(X_values, y_values, test_size=0.20, random_state=None\u001c",
      ")\n",
      "#print \"X_train (%d examples) = \" % len(X_train), X_train\n",
      "#print \"X_test (%d examples) = \" % len(X_test), X_test\n",
      "#print \"y_train (%d labels) = \" % len(y_train), y_train\n",
      "#print \"y_test (%d labels) = \" % len(y_test), y_test\n",
      "\n",
      "logResModel = LogisticRegression(C=pow(10,-1))\n",
      "fittedModel = logResModel.fit(X_train, y_train)\n",
      "\n",
      "fig = plt.figure(figsize=(9,9))\n",
      "y_probs = [y[1] for y in fittedModel.predict_proba(X_test)]\n",
      "#print y_test\n",
      "#print y_probs\n",
      "fpr, tpr, thresholds = roc_curve(y_true=y_test, y_score=y_probs, pos_label=1)\n",
      "#print fpr\n",
      "#print tpr\n",
      "#print thresholds\n",
      "roc_auc = roc_auc_score(y_true=y_test, y_score=y_probs)\n",
      "plt.plot(fpr, tpr, 'o-', label=\"%s (AUC = %1.2f%%)\" % (\"logistic regression\", roc_auc*100))\n",
      "plt.plot(np.linspace(0, 1,len(fpr)),np.linspace(0,1,len(fpr)), '-', label=\"baseline (AUC = 50%)\")\n",
      "plt.title(\"ROC curve for survival prediction\")\n",
      "plt.xlabel(\"False Positive Rate\")\n",
      "plt.ylabel(\"True Positive Rate\")\n",
      "plt.legend(loc=\"best\")\n",
      "plt.show()"
     ],
     "language": "python",
     "metadata": {},
     "outputs": [
      {
       "metadata": {},
       "output_type": "display_data",
       "png": "[encoded data removed]",
       "text": [
        "<matplotlib.figure.Figure at 0x111b85110>"
       ]
      }
     ],
     "prompt_number": 250
    }
   ],
   "metadata": {}
  }
 ]
}